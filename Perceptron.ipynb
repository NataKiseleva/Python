{
  "nbformat": 4,
  "nbformat_minor": 0,
  "metadata": {
    "colab": {
      "name": "Perceptron.ipynb",
      "provenance": [],
      "collapsed_sections": [
        "oUJ5Q2ODrb8G",
        "As341fBwEg5P",
        "DVm9vRT5OBqB",
        "iz7J1pz8HCZQ"
      ],
      "toc_visible": true
    },
    "kernelspec": {
      "name": "python3",
      "display_name": "Python 3"
    }
  },
  "cells": [
    {
      "cell_type": "markdown",
      "metadata": {
        "id": "oUJ5Q2ODrb8G"
      },
      "source": [
        "# Task 1\n",
        "Implement your own Scalar and Vector classes, without using any other modules:"
      ]
    },
    {
      "cell_type": "code",
      "metadata": {
        "id": "ZO2_gHKcrYWk"
      },
      "source": [
        "from typing import Union, List\n",
        "from math import sqrt\n",
        "class Scalar:\n",
        "  pass\n",
        "class Vector:\n",
        "  pass\n",
        "\n",
        "class Scalar:\n",
        "  def __init__(self: Scalar, val: float):\n",
        "    self.val = float(val)\n",
        "  def __mul__(self: Scalar, other: Union[Scalar, Vector]) -> Union[Scalar, Vector]:\n",
        "    # hint: use isinstance to decide what `other` is\n",
        "    # raise an error if `other` isn't Scalar or Vector!\n",
        "    if isinstance(other, Vector):\n",
        "      res = []\n",
        "      for i in range(len(other.entries)):\n",
        "        res.append(self.val * other.entries[i])\n",
        "      return Vector(*res)\n",
        "    elif isinstance(other, Scalar):\n",
        "        return Scalar(self.val * other.val)\n",
        "    else:\n",
        "      print(\"Not happening\")\n",
        "  def __add__(self: Scalar, other: Scalar) -> Scalar:\n",
        "    return Scalar(self.val + other.val)\n",
        "  def __sub__(self: Scalar, other: Scalar) -> Scalar:\n",
        "    return Scalar(self.val - other.val)\n",
        "  def __truediv__(self: Scalar, other: Scalar) -> Scalar:\n",
        "    return Scalar(self.val / other.val)\n",
        "  def __rtruediv__(self: Scalar, other: Vector) -> Vector:\n",
        "    res = []\n",
        "    for i in range(len(other)):\n",
        "      x = other.entries[i]/self.val\n",
        "      res.append(x)\n",
        "    return Vector(*res)\n",
        "  def __repr__(self: Scalar) -> str:\n",
        "    return \"Scalar(%r)\" % self.val\n",
        "  def sign(self: Scalar) -> int:\n",
        "    if self.val == 0:\n",
        "      return 0\n",
        "    elif self.val < 0:\n",
        "      return -1\n",
        "    else:\n",
        "      return 1\n",
        "  def __float__(self: Scalar) -> float:\n",
        "    return self.val\n",
        "\n",
        "class Vector:\n",
        "  def __init__(self: Vector, *entries: List[float]):\n",
        "    self.entries = entries\n",
        "  def zero(size: int) -> Vector:\n",
        "    return Vector(*[0 for i in range(size)])\n",
        "  def __add__(self: Vector, other: Vector) -> Vector:\n",
        "    if len(self.entries) == len(other):\n",
        "      res = []\n",
        "      for i in range(len(self.entries)):\n",
        "        res.append(self.entries[i] + other.entries[i])\n",
        "    return Vector(*res)\n",
        "  def __sub__(self: Vector, other: Vector) -> Vector:\n",
        "    if len(self.entries) == len(other):\n",
        "      res = []\n",
        "      for i in range(len(self.entries)):\n",
        "        res.append(self.entries[i] - other.entries[i])\n",
        "    return Vector(*res)\n",
        "  def __mul__(self: Vector, other: Vector) -> Scalar:\n",
        "    res_v = 0\n",
        "    if len(self.entries) == len(other.entries):\n",
        "      for i in range(len(self.entries)):\n",
        "        res_v += self.entries[i] * other.entries[i]\n",
        "    return Scalar(res_v)\n",
        "  def magnitude(self: Vector) -> Scalar:\n",
        "    res = 0\n",
        "    for i in range(len(self.entries)):\n",
        "      res += self.entries[i]**2\n",
        "    return Scalar(sqrt(res))\n",
        "  def unit(self: Vector) -> Vector:\n",
        "    return self / self.magnitude()\n",
        "  def __len__(self: Vector) -> int:\n",
        "    return len(self.entries)\n",
        "  def __repr__(self: Vector) -> str:\n",
        "    return \"Vector%s\" % repr(self.entries)\n",
        "  def __iter__(self: Vector):\n",
        "    return iter(self.entries)"
      ],
      "execution_count": null,
      "outputs": []
    },
    {
      "cell_type": "markdown",
      "metadata": {
        "id": "As341fBwEg5P"
      },
      "source": [
        "# Task 2\n",
        "\n",
        "Implement the PerceptronTrain and PerceptronTest functions, using your Vector and Scalar classes. Do not permute the dataset when training; run through it linearly.\n",
        "\n",
        "(Hint on how to use the classes: make w and x instances of Vector, y and b instances of Scalar. What should the type of D be? Where do you see the vector operation formulas?)"
      ]
    },
    {
      "cell_type": "code",
      "metadata": {
        "id": "BydH1FmLEgPi"
      },
      "source": [
        "def PerceptronTrain(D, maxiter = 100):\n",
        "  w = Vector.zero(len(D[0][0]))\n",
        "  b = Scalar(0)\n",
        "\n",
        "  for i in range(maxiter):\n",
        "    for x, y in D:\n",
        "      a = x*w + b\n",
        "      if (y*a).sign() <= 0: \n",
        "        w += y*x\n",
        "        b += y\n",
        "  return w, b"
      ],
      "execution_count": null,
      "outputs": []
    },
    {
      "cell_type": "code",
      "metadata": {
        "id": "o5aI2czOneOS"
      },
      "source": [
        "def PerceptronTest(w, b, D):\n",
        "  res = []\n",
        "  for x,y in D:\n",
        "    a = x*w + b\n",
        "    res.append(a.sign())\n",
        "  return res"
      ],
      "execution_count": null,
      "outputs": []
    },
    {
      "cell_type": "markdown",
      "metadata": {
        "id": "DVm9vRT5OBqB"
      },
      "source": [
        "# Task 3 \n",
        "Make a 90-10 test-train split and evaluate your algorithm on the following dataset:"
      ]
    },
    {
      "cell_type": "markdown",
      "metadata": {
        "id": "fM-Se-gKO0U6"
      },
      "source": [
        "You should get that w is some multiple of v, and the performance should be very good. (Some noise is introduced by the last factor in y.)"
      ]
    },
    {
      "cell_type": "code",
      "metadata": {
        "id": "Wj_a2nkvOBI_"
      },
      "source": [
        "from random import randint\n",
        "\n",
        "v = Vector(randint(-100, 100), randint(-100, 100)) # random vector, gold hyperplane\n",
        "xs = [Vector(randint(-100, 100), randint(-100, 100)) for i in range(500)]\n",
        "ys = [v * x * Scalar(randint(-1, 9)) for x in xs] #v dot x -> perfect "
      ],
      "execution_count": null,
      "outputs": []
    },
    {
      "cell_type": "code",
      "metadata": {
        "id": "Dq9CY3WQuKun"
      },
      "source": [
        "def merge(list1, list2):       \n",
        "    merged_list = [(list1[i], list2[i]) for i in range(0, len(list1))] \n",
        "    return merged_list      "
      ],
      "execution_count": null,
      "outputs": []
    },
    {
      "cell_type": "code",
      "metadata": {
        "id": "gUjvDE4kSvVt"
      },
      "source": [
        "from random import shuffle\n",
        "\n",
        "def train_test(data, split, shuff = True):\n",
        "  #shuffle the data\n",
        "  if shuff:\n",
        "    shuffle(data)\n",
        "\n",
        "  b = int(len(data)*split)\n",
        "  train = data[:b]\n",
        "  test= data[b:]\n",
        "\n",
        "  return train, test"
      ],
      "execution_count": null,
      "outputs": []
    },
    {
      "cell_type": "code",
      "metadata": {
        "id": "SCapHTLExewL"
      },
      "source": [
        "D = merge(xs, ys)"
      ],
      "execution_count": null,
      "outputs": []
    },
    {
      "cell_type": "code",
      "metadata": {
        "id": "JX9n5qK2wIMu"
      },
      "source": [
        "train, test = train_test(D, 0.9, shuff = False)"
      ],
      "execution_count": null,
      "outputs": []
    },
    {
      "cell_type": "code",
      "metadata": {
        "id": "Qx5RtmspndAX"
      },
      "source": [
        "w1, b1 = PerceptronTrain(train)\n",
        "y_pred = PerceptronTest(w1, b1, test)"
      ],
      "execution_count": null,
      "outputs": []
    },
    {
      "cell_type": "code",
      "metadata": {
        "id": "-cZGDm1hFIgy"
      },
      "source": [
        "def score(y_pred, y_true):\n",
        "  all = len(y_true)\n",
        "  correct = 0\n",
        "  for i in range(all):\n",
        "    if y_pred[i] == y_true[i][1].sign():\n",
        "      correct += 1\n",
        "  return correct/all*100"
      ],
      "execution_count": null,
      "outputs": []
    },
    {
      "cell_type": "code",
      "metadata": {
        "colab": {
          "base_uri": "https://localhost:8080/"
        },
        "id": "aG9FWxe_FIX7",
        "outputId": "6fd42402-256f-4167-876c-5cf04768551b"
      },
      "source": [
        "score(y_pred, test)"
      ],
      "execution_count": null,
      "outputs": [
        {
          "output_type": "execute_result",
          "data": {
            "text/plain": [
              "76.0"
            ]
          },
          "metadata": {
            "tags": []
          },
          "execution_count": 20
        }
      ]
    },
    {
      "cell_type": "markdown",
      "metadata": {
        "id": "iz7J1pz8HCZQ"
      },
      "source": [
        "# Task 4\n",
        "Make a 90-10 test-train split and evaluate your algorithm on the xor dataset:"
      ]
    },
    {
      "cell_type": "markdown",
      "metadata": {
        "id": "6lsuVj_AHHf4"
      },
      "source": [
        "You should get some relatively random w, and the performance should be terrible."
      ]
    },
    {
      "cell_type": "code",
      "metadata": {
        "id": "0GiwVjpPG4EL"
      },
      "source": [
        "xs_xor = [Vector(randint(-100, 100), randint(-100, 100)) for i in range(500)]\n",
        "ys_xor = [Scalar(1) if x.entries[0]*x.entries[1] < 0 else Scalar(-1) for x in xs_xor]"
      ],
      "execution_count": null,
      "outputs": []
    },
    {
      "cell_type": "code",
      "metadata": {
        "id": "m43gLcJOHfXh"
      },
      "source": [
        "D_xor = merge(xs_xor, ys_xor)"
      ],
      "execution_count": null,
      "outputs": []
    },
    {
      "cell_type": "code",
      "metadata": {
        "id": "xc4pYkJfHd_l"
      },
      "source": [
        "train_xor, test_xor = train_test(D_xor, 0.9, shuff = False)"
      ],
      "execution_count": null,
      "outputs": []
    },
    {
      "cell_type": "code",
      "metadata": {
        "id": "Blyrp4j0HaO_"
      },
      "source": [
        "w2, b2 = PerceptronTrain(train_xor)\n",
        "y_pred_xor = PerceptronTest(w2, b2, test_xor)"
      ],
      "execution_count": null,
      "outputs": []
    },
    {
      "cell_type": "code",
      "metadata": {
        "colab": {
          "base_uri": "https://localhost:8080/"
        },
        "id": "JF-R1VFDIM8r",
        "outputId": "9b6db35f-5ee0-4c20-a646-175689f392b3"
      },
      "source": [
        "score(y_pred_xor, test_xor)"
      ],
      "execution_count": null,
      "outputs": [
        {
          "output_type": "execute_result",
          "data": {
            "text/plain": [
              "50.0"
            ]
          },
          "metadata": {
            "tags": []
          },
          "execution_count": 16
        }
      ]
    },
    {
      "cell_type": "markdown",
      "metadata": {
        "id": "m_a2x2pS6Ac9"
      },
      "source": [
        "# Task 5\n",
        "\n",
        "Sort the training data from task 3 so that all samples with y < 0 come first, then all samples with y = 0, then all samples with y > 0. (That is, sort by y.)"
      ]
    },
    {
      "cell_type": "markdown",
      "metadata": {
        "id": "iJtpqFlM7UAO"
      },
      "source": [
        "Graph the performance (computed by PerceptronTest) on both train and test sets versus epochs for perceptrons trained on\n",
        "\n",
        "* no permutation\n",
        "* random permutation at the beginning\n",
        "* random permutation at each epoch\n"
      ]
    },
    {
      "cell_type": "code",
      "metadata": {
        "id": "vVhR5MzgVR2C"
      },
      "source": [
        "train_for_exp = train"
      ],
      "execution_count": null,
      "outputs": []
    },
    {
      "cell_type": "code",
      "metadata": {
        "id": "zvO15DGLE89v"
      },
      "source": [
        "train_sorted = sorted(train, key= lambda x: x[1].val)"
      ],
      "execution_count": null,
      "outputs": []
    },
    {
      "cell_type": "code",
      "metadata": {
        "id": "YIQI-K9slBcD"
      },
      "source": [
        "performance = []\n",
        "\n",
        "for i in range(1, 11):\n",
        "  w, b = PerceptronTrain(train_sorted, maxiter=i)\n",
        "  y_pr = PerceptronTest(w, b, test)\n",
        "  performance.append(score(y_pr, test))"
      ],
      "execution_count": null,
      "outputs": []
    },
    {
      "cell_type": "code",
      "metadata": {
        "id": "K91JAG8dO1qS"
      },
      "source": [
        "performance_1 = []\n",
        "\n",
        "for i in range(1, 11):\n",
        "  shuffle(train_for_exp)\n",
        "  w, b = PerceptronTrain(train_for_exp, maxiter=i)\n",
        "  y_pr = PerceptronTest(w, b, test)\n",
        "  performance_1.append(score(y_pr, test))"
      ],
      "execution_count": null,
      "outputs": []
    },
    {
      "cell_type": "code",
      "metadata": {
        "id": "ZO0dlW70RCzF"
      },
      "source": [
        "def PerceptronTrainPermute(D, maxiter = 100):\n",
        "  w = Vector.zero(len(D[0][0]))\n",
        "  b = Scalar(0)\n",
        "\n",
        "  for i in range(maxiter):\n",
        "    shuffle(D)\n",
        "    for x, y in D:\n",
        "      a = x*w + b\n",
        "      if (y*a).sign() <= 0: \n",
        "        w += y*x\n",
        "        b += y\n",
        "  return w, b"
      ],
      "execution_count": null,
      "outputs": []
    },
    {
      "cell_type": "code",
      "metadata": {
        "id": "gpiQ0uL0RiDo"
      },
      "source": [
        "performance_2 = []\n",
        "\n",
        "for i in range(1, 11):\n",
        "  w, b = PerceptronTrainPermute(train_for_exp, maxiter=i)\n",
        "  y_pr = PerceptronTest(w, b, test)\n",
        "  performance_2.append(score(y_pr, test))"
      ],
      "execution_count": null,
      "outputs": []
    },
    {
      "cell_type": "code",
      "metadata": {
        "colab": {
          "base_uri": "https://localhost:8080/",
          "height": 299
        },
        "id": "o_UeENUklzdY",
        "outputId": "e381d07b-4806-4bcf-cea0-235bc627b971"
      },
      "source": [
        "import matplotlib.pyplot as plt\n",
        "\n",
        "_ = plt.plot(list(range(1, 11)), performance, marker='o', linestyle='dashed', color = '#b82988', label = 'no permutation')\n",
        "_ = plt.plot(list(range(1, 11)), performance_1, marker='o', linestyle='dashed', color = 'green', label = 'random permutation at the beginning')\n",
        "_ = plt.plot(list(range(1, 11)), performance_2, marker='o', linestyle='dashed', color = 'orange', label = 'random permutation at each epoch')\n",
        "_ = plt.xlabel('Epochs', fontsize=12)\n",
        "_ = plt.ylabel('Score', fontsize=12)\n",
        "_ = plt.legend()\n",
        "_ = plt.title('different strategies', fontsize=14)\n",
        "plt.show()"
      ],
      "execution_count": null,
      "outputs": [
        {
          "output_type": "display_data",
          "data": {
            "image/png": "[encoded data removed]",
            "text/plain": [
              "<Figure size 432x288 with 1 Axes>"
            ]
          },
          "metadata": {
            "tags": [],
            "needs_background": "light"
          }
        }
      ]
    },
    {
      "cell_type": "markdown",
      "metadata": {
        "id": "rpFnj9-r_coF"
      },
      "source": [
        "# Task 6"
      ]
    },
    {
      "cell_type": "code",
      "metadata": {
        "id": "yJA9dkb-_aFg"
      },
      "source": [
        "def AveragedPerceptronTrain(D, maxiter = 100):\n",
        "  w = Vector.zero(len(D[0][0]))\n",
        "  b = Scalar(0)\n",
        "  u = Vector.zero(len(D[0][0]))\n",
        "  beta = Scalar(0)\n",
        "  c = Scalar(1)\n",
        "  for i in range(maxiter):\n",
        "    shuffle(D)\n",
        "    for x, y in D:\n",
        "      a = x*w + b\n",
        "      if (y*a).sign() <= 0: \n",
        "        w += y*x\n",
        "        b += y\n",
        "        u += y*c*x\n",
        "        beta += y*c\n",
        "      c += Scalar(1)\n",
        "  return w-(Scalar(1)/c)*u, b-beta*(Scalar(1)/c)"
      ],
      "execution_count": null,
      "outputs": []
    },
    {
      "cell_type": "code",
      "metadata": {
        "id": "1Xla7fK-V0ws"
      },
      "source": [
        "performance_3 = []\n",
        "\n",
        "for i in range(1, 11):\n",
        "  w, b = AveragedPerceptronTrain(train, maxiter=i)\n",
        "  y_pr = PerceptronTest(w, b, test)\n",
        "  performance_3.append(score(y_pr, test))"
      ],
      "execution_count": null,
      "outputs": []
    },
    {
      "cell_type": "code",
      "metadata": {
        "colab": {
          "base_uri": "https://localhost:8080/",
          "height": 299
        },
        "id": "TAF-G3RzWPRa",
        "outputId": "9cf44090-aab5-4d17-c282-7ef382ad42e7"
      },
      "source": [
        "_ = plt.plot(list(range(1, 11)), performance_2, marker='o', linestyle='dashed', color = 'orange', label = 'PerceptronTrain')\n",
        "_ = plt.plot(list(range(1, 11)), performance_3, marker='o', linestyle='dashed', color = '#1a7823', label = 'AveragedPerceptron')\n",
        "_ = plt.xlabel('Epochs', fontsize=12)\n",
        "_ = plt.ylabel('Score', fontsize=12)\n",
        "_ = plt.legend(fontsize=11)\n",
        "_ = plt.title('AveragedPerceptron versus PerceptronTrain', fontsize=14)\n",
        "plt.show()"
      ],
      "execution_count": null,
      "outputs": [
        {
          "output_type": "display_data",
          "data": {
            "image/png": "[encoded data removed]",
            "text/plain": [
              "<Figure size 432x288 with 1 Axes>"
            ]
          },
          "metadata": {
            "tags": [],
            "needs_background": "light"
          }
        }
      ]
    }
  ]
}